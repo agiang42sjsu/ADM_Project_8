{
 "cells": [
  {
   "cell_type": "code",
   "execution_count": 14,
   "metadata": {},
   "outputs": [],
   "source": [
    "import json\n",
    "import numpy as np\n",
    "import scipy as sp\n",
    "#matplotlib inline\n",
    "import matplotlib.pyplot as plt\n",
    "from collections import defaultdict\n",
    "from sklearn.cluster import KMeans\n",
    "from sklearn.preprocessing import StandardScaler\n",
    "import random\n",
    "import bisect\n",
    "from scipy.sparse import csr_matrix\n",
    "from scipy.sparse.linalg import svds, eigs\n",
    "from numpy.linalg import matrix_rank\n",
    "from sklearn.cluster import DBSCAN\n",
    "from sklearn import metrics\n",
    "from sklearn.datasets import make_blobs\n",
    "from sklearn.preprocessing import StandardScaler\n",
    "import os\n",
    "import time"
   ]
  },
  {
   "cell_type": "code",
   "execution_count": 15,
   "metadata": {},
   "outputs": [
    {
     "name": "stdout",
     "output_type": "stream",
     "text": [
      "Reading yelp_academic_dataset_user.json\n",
      "Time taken to load user data: 23 seconds\n"
     ]
    }
   ],
   "source": [
    "user_data = []\n",
    "start = time.time()\n",
    "with open('yelp_dataset/yelp_academic_dataset_user.json', encoding=\"utf8\") as fin:\n",
    "    print('Reading yelp_academic_dataset_user.json')\n",
    "    for line in fin:\n",
    "        user = json.loads(line)\n",
    "        user_data.append(user)\n",
    "end = time.time()\n",
    "duration = end-start\n",
    "print(\"Time taken to load user data: %d seconds\" %duration)"
   ]
  },
  {
   "cell_type": "code",
   "execution_count": 16,
   "metadata": {},
   "outputs": [
    {
     "name": "stdout",
     "output_type": "stream",
     "text": [
      "Reading yelp_academic_dataset_business.json\n",
      "Time taken to load business data: 2 seconds\n"
     ]
    }
   ],
   "source": [
    "business_data = []\n",
    "start = time.time()\n",
    "with open('yelp_dataset/yelp_academic_dataset_business.json', encoding=\"utf8\") as fin:\n",
    "    print('Reading yelp_academic_dataset_business.json')\n",
    "    for line in fin:\n",
    "        business = json.loads(line)\n",
    "        business_data.append(business)\n",
    "\n",
    "end = time.time()\n",
    "duration = end-start\n",
    "print(\"Time taken to load business data: %d seconds\" %duration)"
   ]
  },
  {
   "cell_type": "code",
   "execution_count": 17,
   "metadata": {},
   "outputs": [
    {
     "name": "stdout",
     "output_type": "stream",
     "text": [
      "2189457 user records loaded\n",
      "160585 business records loaded\n"
     ]
    }
   ],
   "source": [
    "print(str(len(user_data)) + ' user records loaded')\n",
    "print(str(len(business_data)) + ' business records loaded')"
   ]
  },
  {
   "cell_type": "code",
   "execution_count": 18,
   "metadata": {},
   "outputs": [
    {
     "name": "stdout",
     "output_type": "stream",
     "text": [
      "160585 business records reduced to 50763 restaurant records\n"
     ]
    }
   ],
   "source": [
    "# Filter businesses to only show restaurants\n",
    "restaurant_category = 'Restaurants'\n",
    "restaurant_data = []\n",
    "for business in business_data:\n",
    "    try:\n",
    "        if restaurant_category in business.get('categories',):\n",
    "            restaurant_data.append(business)\n",
    "    except:\n",
    "        pass\n",
    "\n",
    "print(str(len(business_data)) + ' business records reduced to ' + str(len(restaurant_data)) + ' restaurant records')"
   ]
  },
  {
   "cell_type": "code",
   "execution_count": 19,
   "metadata": {},
   "outputs": [
    {
     "name": "stdout",
     "output_type": "stream",
     "text": [
      "50763 restaurant records reduced to 3270 Texas restaurants with 40 or more reviews\n"
     ]
    }
   ],
   "source": [
    "TX_restaurants = [restaurant for restaurant in restaurant_data if 'TX' in restaurant.get('state')]\n",
    "TX_restaurants = [restaurant for restaurant in TX_restaurants if restaurant.get('review_count') >= 40]\n",
    "print(str(len(restaurant_data)) + ' restaurant records reduced to ' + str(len(TX_restaurants)) + ' Texas restaurants with 40 or more reviews')"
   ]
  },
  {
   "cell_type": "code",
   "execution_count": 20,
   "metadata": {},
   "outputs": [],
   "source": [
    "with open('TX_restaurants.json', 'a') as outfile:\n",
    "    json.dump(TX_restaurants, outfile, indent=1)"
   ]
  },
  {
   "cell_type": "code",
   "execution_count": 21,
   "metadata": {},
   "outputs": [
    {
     "name": "stdout",
     "output_type": "stream",
     "text": [
      "Reading yelp_academic_dataset_review.json\n",
      "Time taken to load review data: 53 seconds\n"
     ]
    }
   ],
   "source": [
    "# Remove all users that don't have 50 or more reviews\n",
    "max_review_count = 50\n",
    "user_data = [user for user in user_data if user.get('review_count') >= max_review_count]\n",
    "\n",
    "review_data = []\n",
    "TX_restaurants_id = set([restaurant.get('business_id') for restaurant in TX_restaurants])\n",
    "valid_user_id = set([user.get('user_id') for user in user_data])\n",
    "start = time.time()\n",
    "with open('yelp_dataset/yelp_academic_dataset_review.json', encoding=\"utf8\") as fin:\n",
    "    print('Reading yelp_academic_dataset_review.json')\n",
    "    for line in fin:\n",
    "        review = json.loads(line)\n",
    "        if review.get('business_id') in TX_restaurants_id:\n",
    "            if review.get('user_id') in valid_user_id:\n",
    "                review_data.append(review)\n",
    "\n",
    "end = time.time()\n",
    "duration_without_dr = end-start\n",
    "print(\"Time taken to load review data: %d seconds\" %duration_without_dr)"
   ]
  },
  {
   "cell_type": "code",
   "execution_count": 22,
   "metadata": {},
   "outputs": [
    {
     "name": "stdout",
     "output_type": "stream",
     "text": [
      "373626 review records for Texas reduced to 87592 reviews from users with 40 or more reviews and on restaurants with 40 or more reviews\n"
     ]
    }
   ],
   "source": [
    "from collections import Counter\n",
    "orginal_review_count = len(review_data)\n",
    "\n",
    "while True:\n",
    "    old_review_count = len(review_data)\n",
    "    filter_user = set()\n",
    "    filter_restaurant = set()\n",
    "    #user_review_count_TX = Counter(k['user_id'] for k in review_data if k.get('user_id'))\n",
    "    #restaurant_review_count_TX = Counter(k['business_id'] for k in review_data if k.get('business_id'))\n",
    "    user_review_count_TX = Counter(k['user_id'] for k in review_data)\n",
    "    restaurant_review_count_TX = Counter(k['business_id'] for k in review_data)\n",
    "    #for user, count in user_review_count_TX.most_common():\n",
    "    for user, user_count in user_review_count_TX.most_common():\n",
    "        if user_count >= max_review_count:\n",
    "            filter_user.add(user)\n",
    "\n",
    "    #for biz, count in restaurant_review_count_TX.most_common():\n",
    "    for biz, biz_count in restaurant_review_count_TX.most_common():\n",
    "        if biz_count >= 40:\n",
    "            filter_restaurant.add(biz)       \n",
    "    review_data[:] = [x for x in review_data if x.get('user_id') in filter_user and x.get('business_id') in filter_restaurant]\n",
    "    if old_review_count == len(review_data):\n",
    "        break\n",
    "print(str(orginal_review_count) + ' review records for Texas reduced to ' + str(len(review_data)) + ' reviews from users with 40 or more reviews and on restaurants with 40 or more reviews')"
   ]
  },
  {
   "cell_type": "code",
   "execution_count": 23,
   "metadata": {},
   "outputs": [
    {
     "name": "stdout",
     "output_type": "stream",
     "text": [
      "5.0    24971\n",
      "4.0    35851\n",
      "3.0    17280\n",
      "2.0     7073\n",
      "1.0     2417\n",
      "Name: stars, dtype: int64\n"
     ]
    },
    {
     "data": {
      "image/png": "[encoded data removed]",
      "text/plain": [
       "<Figure size 432x288 with 1 Axes>"
      ]
     },
     "metadata": {
      "needs_background": "light"
     },
     "output_type": "display_data"
    }
   ],
   "source": [
    "import matplotlib.pyplot as plt\n",
    "import pandas as pd\n",
    "df = pd.DataFrame(review_data)\n",
    "print(df['stars'].value_counts().sort_index(ascending=False))\n",
    "df.stars.value_counts().sort_index(ascending=False).plot(kind=\"bar\",title='Rating Distribution',xlabel='Star Rating',ylabel=\"Frequency\");"
   ]
  },
  {
   "cell_type": "code",
   "execution_count": 24,
   "metadata": {},
   "outputs": [],
   "source": [
    "with open('TX_reviews.json', 'a') as outfile:\n",
    "    json.dump(review_data, outfile, indent=1)"
   ]
  },
  {
   "cell_type": "code",
   "execution_count": 27,
   "metadata": {},
   "outputs": [
    {
     "name": "stdout",
     "output_type": "stream",
     "text": [
      "1194 users in texas with more than 40 reviews on popular restaurants\n"
     ]
    }
   ],
   "source": [
    "TX_users = []\n",
    "TX_user_id = set([review.get('user_id') for review in review_data])\n",
    "for user in user_data:\n",
    "    if user.get('user_id') in TX_user_id:\n",
    "        TX_users.append(user)\n",
    "print(str(len(TX_users)) + ' users in texas with more than '+ str(max_review_count) +' reviews on popular restaurants')"
   ]
  },
  {
   "cell_type": "code",
   "execution_count": 26,
   "metadata": {},
   "outputs": [],
   "source": [
    "with open('TX_users.json', 'a') as outfile:\n",
    "    json.dump(TX_users, outfile, indent=1)"
   ]
  }
 ],
 "metadata": {
  "interpreter": {
   "hash": "098d024f08efb947bc83821b103df1d72048fb3f91c311d1a333c05eca801e1a"
  },
  "kernelspec": {
   "display_name": "Python 3.9.6 64-bit",
   "language": "python",
   "name": "python3"
  },
  "language_info": {
   "codemirror_mode": {
    "name": "ipython",
    "version": 3
   },
   "file_extension": ".py",
   "mimetype": "text/x-python",
   "name": "python",
   "nbconvert_exporter": "python",
   "pygments_lexer": "ipython3",
   "version": "3.8.8"
  },
  "orig_nbformat": 4
 },
 "nbformat": 4,
 "nbformat_minor": 2
}
